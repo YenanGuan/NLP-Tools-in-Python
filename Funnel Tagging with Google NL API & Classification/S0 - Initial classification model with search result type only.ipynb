{
 "cells": [
  {
   "cell_type": "code",
   "execution_count": 1,
   "metadata": {},
   "outputs": [],
   "source": [
    "import pandas as pd\n",
    "import numpy as np\n",
    "import seaborn as sns"
   ]
  },
  {
   "cell_type": "code",
   "execution_count": 2,
   "metadata": {},
   "outputs": [],
   "source": [
    "df = pd.read_csv('KWSerpAnalysis 05 - Authority Labs Scrape 2019-09-12.csv')"
   ]
  },
  {
   "cell_type": "code",
   "execution_count": 3,
   "metadata": {},
   "outputs": [
    {
     "name": "stdout",
     "output_type": "stream",
     "text": [
      "['query', 'result_topic', 'result_type', 'domain', 'sub_domain', 'position', 'number_of_results', 'wtd_count', 'date', 'hour_of_day', 'scrape_geo', 'title', 'desc']\n"
     ]
    }
   ],
   "source": [
    "print(list(df))\n",
    "df = df[['query', 'result_type']]"
   ]
  },
  {
   "cell_type": "markdown",
   "metadata": {},
   "source": [
    "### Tag funnel types: informational, navigational, transactional by known keywords labels\n",
    "- https://blog.alexa.com/how-to-optimize-for-three-types-of-buyer-keywords/"
   ]
  },
  {
   "cell_type": "code",
   "execution_count": 4,
   "metadata": {},
   "outputs": [
    {
     "data": {
      "text/plain": [
       "informational    68256\n",
       "navigational     15891\n",
       "transactional     7308\n",
       "Name: INT, dtype: int64"
      ]
     },
     "execution_count": 4,
     "metadata": {},
     "output_type": "execute_result"
    }
   ],
   "source": [
    "informational = ['how', 'what', 'benefit', 'way to', 'ways to', 'guide', 'how', 'tutorial', 'best', 'cheap',\n",
    "                'alternatives', 'compare', 'improve', 'why']\n",
    "navigational = ['location', 'near me', 'feature', 'cost', 'hour', 'direction', 'review', 'shipping', \n",
    "                'price', 'testimonial']\n",
    "transactional = ['apply', 'buy', 'coupon', 'clearance', 'deal', 'discount', 'download', 'sale', 'order', \n",
    "                 'purchase', 'reserve', 'appointment', 'special', 'buy']\n",
    "\n",
    "def question_query(x, quest_list):\n",
    "    \n",
    "    if any(word in x for word in quest_list):\n",
    "        return 1\n",
    "    else:\n",
    "        return 0\n",
    "\n",
    "df['informational'] = df['query'].apply(lambda x: question_query(x, informational))\n",
    "df['navigational'] = df['query'].apply(lambda x: question_query(x, navigational))\n",
    "df['transactional'] = df['query'].apply(lambda x: question_query(x, transactional))\n",
    "\n",
    "df.loc[df['query'].str.contains('why')].head()\n",
    "\n",
    "df['temp_calc'] = df['informational'] + df['navigational'] + df['transactional']\n",
    "df = df[df['temp_calc'] == 1]\n",
    "\n",
    "df['INT'] = None\n",
    "df.loc[df.informational == 1, 'INT'] = 'informational'\n",
    "df.loc[df.navigational == 1, 'INT'] = 'navigational'\n",
    "df.loc[df.transactional == 1, 'INT'] = 'transactional'\n",
    "\n",
    "df = df.drop(['informational', 'navigational', 'transactional', 'temp_calc'], axis=1)\n",
    "\n",
    "df.INT.value_counts()"
   ]
  },
  {
   "cell_type": "code",
   "execution_count": 5,
   "metadata": {},
   "outputs": [
    {
     "data": {
      "text/html": [
       "<div>\n",
       "<style scoped>\n",
       "    .dataframe tbody tr th:only-of-type {\n",
       "        vertical-align: middle;\n",
       "    }\n",
       "\n",
       "    .dataframe tbody tr th {\n",
       "        vertical-align: top;\n",
       "    }\n",
       "\n",
       "    .dataframe thead th {\n",
       "        text-align: right;\n",
       "    }\n",
       "</style>\n",
       "<table border=\"1\" class=\"dataframe\">\n",
       "  <thead>\n",
       "    <tr style=\"text-align: right;\">\n",
       "      <th></th>\n",
       "      <th>query</th>\n",
       "      <th>result_type</th>\n",
       "      <th>INT</th>\n",
       "    </tr>\n",
       "  </thead>\n",
       "  <tbody>\n",
       "    <tr>\n",
       "      <th>13</th>\n",
       "      <td>$2 colgate coupon</td>\n",
       "      <td>Organic</td>\n",
       "      <td>transactional</td>\n",
       "    </tr>\n",
       "    <tr>\n",
       "      <th>14</th>\n",
       "      <td>$2 colgate coupon</td>\n",
       "      <td>Organic</td>\n",
       "      <td>transactional</td>\n",
       "    </tr>\n",
       "    <tr>\n",
       "      <th>15</th>\n",
       "      <td>$2 colgate coupon</td>\n",
       "      <td>Organic</td>\n",
       "      <td>transactional</td>\n",
       "    </tr>\n",
       "    <tr>\n",
       "      <th>16</th>\n",
       "      <td>$2 colgate coupon</td>\n",
       "      <td>Organic</td>\n",
       "      <td>transactional</td>\n",
       "    </tr>\n",
       "    <tr>\n",
       "      <th>17</th>\n",
       "      <td>$2 colgate coupon</td>\n",
       "      <td>Organic</td>\n",
       "      <td>transactional</td>\n",
       "    </tr>\n",
       "  </tbody>\n",
       "</table>\n",
       "</div>"
      ],
      "text/plain": [
       "                query result_type            INT\n",
       "13  $2 colgate coupon     Organic  transactional\n",
       "14  $2 colgate coupon     Organic  transactional\n",
       "15  $2 colgate coupon     Organic  transactional\n",
       "16  $2 colgate coupon     Organic  transactional\n",
       "17  $2 colgate coupon     Organic  transactional"
      ]
     },
     "execution_count": 5,
     "metadata": {},
     "output_type": "execute_result"
    }
   ],
   "source": [
    "df.head()"
   ]
  },
  {
   "cell_type": "code",
   "execution_count": 6,
   "metadata": {},
   "outputs": [
    {
     "data": {
      "text/html": [
       "<div>\n",
       "<style scoped>\n",
       "    .dataframe tbody tr th:only-of-type {\n",
       "        vertical-align: middle;\n",
       "    }\n",
       "\n",
       "    .dataframe tbody tr th {\n",
       "        vertical-align: top;\n",
       "    }\n",
       "\n",
       "    .dataframe thead th {\n",
       "        text-align: right;\n",
       "    }\n",
       "</style>\n",
       "<table border=\"1\" class=\"dataframe\">\n",
       "  <thead>\n",
       "    <tr style=\"text-align: right;\">\n",
       "      <th>INT</th>\n",
       "      <th>informational</th>\n",
       "      <th>navigational</th>\n",
       "      <th>transactional</th>\n",
       "    </tr>\n",
       "    <tr>\n",
       "      <th>result_type</th>\n",
       "      <th></th>\n",
       "      <th></th>\n",
       "      <th></th>\n",
       "    </tr>\n",
       "  </thead>\n",
       "  <tbody>\n",
       "    <tr>\n",
       "      <th>Answer Box</th>\n",
       "      <td>4817</td>\n",
       "      <td>472</td>\n",
       "      <td>130</td>\n",
       "    </tr>\n",
       "    <tr>\n",
       "      <th>Image</th>\n",
       "      <td>21</td>\n",
       "      <td>81</td>\n",
       "      <td>31</td>\n",
       "    </tr>\n",
       "    <tr>\n",
       "      <th>Local Pack</th>\n",
       "      <td>228</td>\n",
       "      <td>282</td>\n",
       "      <td>78</td>\n",
       "    </tr>\n",
       "    <tr>\n",
       "      <th>News</th>\n",
       "      <td>27</td>\n",
       "      <td>8</td>\n",
       "      <td>1</td>\n",
       "    </tr>\n",
       "    <tr>\n",
       "      <th>Organic</th>\n",
       "      <td>46289</td>\n",
       "      <td>11005</td>\n",
       "      <td>5391</td>\n",
       "    </tr>\n",
       "    <tr>\n",
       "      <th>Organic &amp; Sitelinks</th>\n",
       "      <td>4</td>\n",
       "      <td>46</td>\n",
       "      <td>10</td>\n",
       "    </tr>\n",
       "    <tr>\n",
       "      <th>Paid Search Ad</th>\n",
       "      <td>1326</td>\n",
       "      <td>379</td>\n",
       "      <td>284</td>\n",
       "    </tr>\n",
       "    <tr>\n",
       "      <th>People Also Ask</th>\n",
       "      <td>15467</td>\n",
       "      <td>3605</td>\n",
       "      <td>1378</td>\n",
       "    </tr>\n",
       "    <tr>\n",
       "      <th>Shopping Ad</th>\n",
       "      <td>8</td>\n",
       "      <td>0</td>\n",
       "      <td>0</td>\n",
       "    </tr>\n",
       "    <tr>\n",
       "      <th>Video</th>\n",
       "      <td>69</td>\n",
       "      <td>13</td>\n",
       "      <td>5</td>\n",
       "    </tr>\n",
       "  </tbody>\n",
       "</table>\n",
       "</div>"
      ],
      "text/plain": [
       "INT                  informational  navigational  transactional\n",
       "result_type                                                    \n",
       "Answer Box                    4817           472            130\n",
       "Image                           21            81             31\n",
       "Local Pack                     228           282             78\n",
       "News                            27             8              1\n",
       "Organic                      46289         11005           5391\n",
       "Organic & Sitelinks              4            46             10\n",
       "Paid Search Ad                1326           379            284\n",
       "People Also Ask              15467          3605           1378\n",
       "Shopping Ad                      8             0              0\n",
       "Video                           69            13              5"
      ]
     },
     "execution_count": 6,
     "metadata": {},
     "output_type": "execute_result"
    }
   ],
   "source": [
    "pd.crosstab(df.result_type, df.INT)"
   ]
  },
  {
   "cell_type": "code",
   "execution_count": 7,
   "metadata": {},
   "outputs": [
    {
     "data": {
      "text/html": [
       "<div>\n",
       "<style scoped>\n",
       "    .dataframe tbody tr th:only-of-type {\n",
       "        vertical-align: middle;\n",
       "    }\n",
       "\n",
       "    .dataframe tbody tr th {\n",
       "        vertical-align: top;\n",
       "    }\n",
       "\n",
       "    .dataframe thead th {\n",
       "        text-align: right;\n",
       "    }\n",
       "</style>\n",
       "<table border=\"1\" class=\"dataframe\">\n",
       "  <thead>\n",
       "    <tr style=\"text-align: right;\">\n",
       "      <th>result_type</th>\n",
       "      <th>query</th>\n",
       "      <th>INT</th>\n",
       "      <th>Answer Box</th>\n",
       "      <th>Image</th>\n",
       "      <th>Local Pack</th>\n",
       "      <th>News</th>\n",
       "      <th>Organic</th>\n",
       "      <th>Organic &amp; Sitelinks</th>\n",
       "      <th>Paid Search Ad</th>\n",
       "      <th>People Also Ask</th>\n",
       "      <th>Shopping Ad</th>\n",
       "      <th>Video</th>\n",
       "      <th>len</th>\n",
       "    </tr>\n",
       "  </thead>\n",
       "  <tbody>\n",
       "    <tr>\n",
       "      <th>0</th>\n",
       "      <td>$2 colgate coupon</td>\n",
       "      <td>transactional</td>\n",
       "      <td>0.0</td>\n",
       "      <td>0.0</td>\n",
       "      <td>0.0</td>\n",
       "      <td>0.0</td>\n",
       "      <td>10.0</td>\n",
       "      <td>0.0</td>\n",
       "      <td>0.0</td>\n",
       "      <td>0.0</td>\n",
       "      <td>0.0</td>\n",
       "      <td>0.0</td>\n",
       "      <td>3</td>\n",
       "    </tr>\n",
       "    <tr>\n",
       "      <th>1</th>\n",
       "      <td>$2 off colgate coupon</td>\n",
       "      <td>transactional</td>\n",
       "      <td>0.0</td>\n",
       "      <td>0.0</td>\n",
       "      <td>0.0</td>\n",
       "      <td>0.0</td>\n",
       "      <td>10.0</td>\n",
       "      <td>0.0</td>\n",
       "      <td>0.0</td>\n",
       "      <td>0.0</td>\n",
       "      <td>0.0</td>\n",
       "      <td>0.0</td>\n",
       "      <td>4</td>\n",
       "    </tr>\n",
       "    <tr>\n",
       "      <th>2</th>\n",
       "      <td>10 ways to define leadership</td>\n",
       "      <td>informational</td>\n",
       "      <td>0.0</td>\n",
       "      <td>0.0</td>\n",
       "      <td>0.0</td>\n",
       "      <td>0.0</td>\n",
       "      <td>9.0</td>\n",
       "      <td>0.0</td>\n",
       "      <td>0.0</td>\n",
       "      <td>4.0</td>\n",
       "      <td>0.0</td>\n",
       "      <td>0.0</td>\n",
       "      <td>5</td>\n",
       "    </tr>\n",
       "    <tr>\n",
       "      <th>3</th>\n",
       "      <td>11 ways to change an organizational culture</td>\n",
       "      <td>informational</td>\n",
       "      <td>0.0</td>\n",
       "      <td>0.0</td>\n",
       "      <td>0.0</td>\n",
       "      <td>0.0</td>\n",
       "      <td>9.0</td>\n",
       "      <td>0.0</td>\n",
       "      <td>0.0</td>\n",
       "      <td>4.0</td>\n",
       "      <td>0.0</td>\n",
       "      <td>0.0</td>\n",
       "      <td>7</td>\n",
       "    </tr>\n",
       "    <tr>\n",
       "      <th>4</th>\n",
       "      <td>12 hour breath freshener</td>\n",
       "      <td>navigational</td>\n",
       "      <td>0.0</td>\n",
       "      <td>0.0</td>\n",
       "      <td>0.0</td>\n",
       "      <td>0.0</td>\n",
       "      <td>9.0</td>\n",
       "      <td>0.0</td>\n",
       "      <td>0.0</td>\n",
       "      <td>1.0</td>\n",
       "      <td>0.0</td>\n",
       "      <td>0.0</td>\n",
       "      <td>4</td>\n",
       "    </tr>\n",
       "  </tbody>\n",
       "</table>\n",
       "</div>"
      ],
      "text/plain": [
       "result_type                                        query            INT  \\\n",
       "0                                      $2 colgate coupon  transactional   \n",
       "1                                  $2 off colgate coupon  transactional   \n",
       "2                           10 ways to define leadership  informational   \n",
       "3            11 ways to change an organizational culture  informational   \n",
       "4                               12 hour breath freshener   navigational   \n",
       "\n",
       "result_type  Answer Box  Image  Local Pack  News  Organic  \\\n",
       "0                   0.0    0.0         0.0   0.0     10.0   \n",
       "1                   0.0    0.0         0.0   0.0     10.0   \n",
       "2                   0.0    0.0         0.0   0.0      9.0   \n",
       "3                   0.0    0.0         0.0   0.0      9.0   \n",
       "4                   0.0    0.0         0.0   0.0      9.0   \n",
       "\n",
       "result_type  Organic & Sitelinks  Paid Search Ad  People Also Ask  \\\n",
       "0                            0.0             0.0              0.0   \n",
       "1                            0.0             0.0              0.0   \n",
       "2                            0.0             0.0              4.0   \n",
       "3                            0.0             0.0              4.0   \n",
       "4                            0.0             0.0              1.0   \n",
       "\n",
       "result_type  Shopping Ad  Video  len  \n",
       "0                    0.0    0.0    3  \n",
       "1                    0.0    0.0    4  \n",
       "2                    0.0    0.0    5  \n",
       "3                    0.0    0.0    7  \n",
       "4                    0.0    0.0    4  "
      ]
     },
     "execution_count": 7,
     "metadata": {},
     "output_type": "execute_result"
    }
   ],
   "source": [
    "df_new = df['query'].groupby([df['query'], df['INT'], df['result_type']]).count()\n",
    "df_new = df_new.unstack()\n",
    "df_new = df_new.fillna(0)\n",
    "df_new.reset_index(inplace=True)\n",
    "df_new['len'] = df_new['query'].str.split().apply(len)\n",
    "df_new.head()"
   ]
  },
  {
   "cell_type": "code",
   "execution_count": 8,
   "metadata": {},
   "outputs": [
    {
     "data": {
      "text/plain": [
       "informational    5662\n",
       "navigational     1295\n",
       "transactional     605\n",
       "Name: INT, dtype: int64"
      ]
     },
     "execution_count": 8,
     "metadata": {},
     "output_type": "execute_result"
    }
   ],
   "source": [
    "df_new['INT'].value_counts()"
   ]
  },
  {
   "cell_type": "markdown",
   "metadata": {},
   "source": [
    "### Undersample the classes"
   ]
  },
  {
   "cell_type": "code",
   "execution_count": 9,
   "metadata": {},
   "outputs": [],
   "source": [
    "import random\n",
    "random.seed(100)\n",
    "\n",
    "len_all = df_new.shape[0]\n",
    "len_i = df_new[df_new['INT'] == 'informational'].shape[0]\n",
    "len_n = df_new[df_new['INT'] == 'navigational'].shape[0]\n",
    "len_t = df_new[df_new['INT'] == 'transactional'].shape[0]\n",
    "\n",
    "df_new.loc[df_new['INT'] == 'informational', 'random'] = np.random.uniform(0,1,len_i)\n",
    "df_new.loc[df_new['INT'] == 'navigational', 'random'] = np.random.uniform(0,1,len_n)\n",
    "df_new.loc[df_new['INT'] == 'transactional', 'random'] = 0"
   ]
  },
  {
   "cell_type": "code",
   "execution_count": 10,
   "metadata": {},
   "outputs": [
    {
     "data": {
      "text/plain": [
       "transactional    605\n",
       "informational    593\n",
       "navigational     583\n",
       "Name: INT, dtype: int64"
      ]
     },
     "execution_count": 10,
     "metadata": {},
     "output_type": "execute_result"
    }
   ],
   "source": [
    "df_new = df_new.loc[~((df_new['INT'] == 'informational') & (df_new['random'] <= 1-(len_t/len_i)))]\n",
    "df_new = df_new.loc[~((df_new['INT'] == 'navigational') & (df_new['random'] <= 1-(len_t/len_n)))]\n",
    "df_new = df_new.drop(['random'], axis=1)\n",
    "\n",
    "df_new['INT'].value_counts()"
   ]
  },
  {
   "cell_type": "code",
   "execution_count": 11,
   "metadata": {},
   "outputs": [
    {
     "data": {
      "text/html": [
       "<div>\n",
       "<style scoped>\n",
       "    .dataframe tbody tr th:only-of-type {\n",
       "        vertical-align: middle;\n",
       "    }\n",
       "\n",
       "    .dataframe tbody tr th {\n",
       "        vertical-align: top;\n",
       "    }\n",
       "\n",
       "    .dataframe thead th {\n",
       "        text-align: right;\n",
       "    }\n",
       "</style>\n",
       "<table border=\"1\" class=\"dataframe\">\n",
       "  <thead>\n",
       "    <tr style=\"text-align: right;\">\n",
       "      <th>result_type</th>\n",
       "      <th>Answer Box</th>\n",
       "      <th>Image</th>\n",
       "      <th>Local Pack</th>\n",
       "      <th>News</th>\n",
       "      <th>Organic</th>\n",
       "      <th>Organic &amp; Sitelinks</th>\n",
       "      <th>Paid Search Ad</th>\n",
       "      <th>People Also Ask</th>\n",
       "      <th>Shopping Ad</th>\n",
       "      <th>Video</th>\n",
       "      <th>len</th>\n",
       "    </tr>\n",
       "    <tr>\n",
       "      <th>INT</th>\n",
       "      <th></th>\n",
       "      <th></th>\n",
       "      <th></th>\n",
       "      <th></th>\n",
       "      <th></th>\n",
       "      <th></th>\n",
       "      <th></th>\n",
       "      <th></th>\n",
       "      <th></th>\n",
       "      <th></th>\n",
       "      <th></th>\n",
       "    </tr>\n",
       "  </thead>\n",
       "  <tbody>\n",
       "    <tr>\n",
       "      <th>informational</th>\n",
       "      <td>512.0</td>\n",
       "      <td>2.0</td>\n",
       "      <td>18.0</td>\n",
       "      <td>1.0</td>\n",
       "      <td>4849.0</td>\n",
       "      <td>0.0</td>\n",
       "      <td>134.0</td>\n",
       "      <td>1619.0</td>\n",
       "      <td>0.0</td>\n",
       "      <td>4.0</td>\n",
       "      <td>3611</td>\n",
       "    </tr>\n",
       "    <tr>\n",
       "      <th>navigational</th>\n",
       "      <td>201.0</td>\n",
       "      <td>41.0</td>\n",
       "      <td>141.0</td>\n",
       "      <td>4.0</td>\n",
       "      <td>4975.0</td>\n",
       "      <td>19.0</td>\n",
       "      <td>190.0</td>\n",
       "      <td>1601.0</td>\n",
       "      <td>0.0</td>\n",
       "      <td>1.0</td>\n",
       "      <td>2483</td>\n",
       "    </tr>\n",
       "    <tr>\n",
       "      <th>transactional</th>\n",
       "      <td>130.0</td>\n",
       "      <td>31.0</td>\n",
       "      <td>78.0</td>\n",
       "      <td>1.0</td>\n",
       "      <td>5391.0</td>\n",
       "      <td>10.0</td>\n",
       "      <td>284.0</td>\n",
       "      <td>1378.0</td>\n",
       "      <td>0.0</td>\n",
       "      <td>5.0</td>\n",
       "      <td>2391</td>\n",
       "    </tr>\n",
       "  </tbody>\n",
       "</table>\n",
       "</div>"
      ],
      "text/plain": [
       "result_type    Answer Box  Image  Local Pack  News  Organic  \\\n",
       "INT                                                           \n",
       "informational       512.0    2.0        18.0   1.0   4849.0   \n",
       "navigational        201.0   41.0       141.0   4.0   4975.0   \n",
       "transactional       130.0   31.0        78.0   1.0   5391.0   \n",
       "\n",
       "result_type    Organic & Sitelinks  Paid Search Ad  People Also Ask  \\\n",
       "INT                                                                   \n",
       "informational                  0.0           134.0           1619.0   \n",
       "navigational                  19.0           190.0           1601.0   \n",
       "transactional                 10.0           284.0           1378.0   \n",
       "\n",
       "result_type    Shopping Ad  Video   len  \n",
       "INT                                      \n",
       "informational          0.0    4.0  3611  \n",
       "navigational           0.0    1.0  2483  \n",
       "transactional          0.0    5.0  2391  "
      ]
     },
     "execution_count": 11,
     "metadata": {},
     "output_type": "execute_result"
    }
   ],
   "source": [
    "df_new.groupby('INT').agg('sum')"
   ]
  },
  {
   "cell_type": "markdown",
   "metadata": {},
   "source": [
    "## Modeling"
   ]
  },
  {
   "cell_type": "markdown",
   "metadata": {},
   "source": [
    "### Sample split"
   ]
  },
  {
   "cell_type": "code",
   "execution_count": 12,
   "metadata": {},
   "outputs": [
    {
     "name": "stdout",
     "output_type": "stream",
     "text": [
      "(1424, 11) (1424, 1)\n",
      "(357, 11) (357, 1)\n"
     ]
    }
   ],
   "source": [
    "X = df_new.drop(['query', 'INT'], axis=1)\n",
    "y = df_new[['INT']]\n",
    "\n",
    "from sklearn.model_selection import train_test_split\n",
    "\n",
    "X_train, X_test, y_train, y_test = train_test_split(X, y, test_size=0.2, random_state=234)\n",
    "print(X_train.shape, y_train.shape)\n",
    "print(X_test.shape, y_test.shape)"
   ]
  },
  {
   "cell_type": "markdown",
   "metadata": {},
   "source": [
    "### Train random forest and get predictions"
   ]
  },
  {
   "cell_type": "code",
   "execution_count": 13,
   "metadata": {},
   "outputs": [
    {
     "name": "stderr",
     "output_type": "stream",
     "text": [
      "/usr/local/lib/python3.7/site-packages/ipykernel_launcher.py:6: DataConversionWarning: A column-vector y was passed when a 1d array was expected. Please change the shape of y to (n_samples,), for example using ravel().\n",
      "  \n"
     ]
    }
   ],
   "source": [
    "from sklearn.ensemble import RandomForestClassifier\n",
    "from sklearn.datasets import make_classification\n",
    "# random forest model creation\n",
    "rfc = RandomForestClassifier(n_estimators=1000, max_features=\"sqrt\", min_samples_split=2,\n",
    "                             oob_score=True, random_state=100)\n",
    "rfc.fit(X_train,y_train)\n",
    "# predictions\n",
    "rfc_predict = rfc.predict(X_test)"
   ]
  },
  {
   "cell_type": "markdown",
   "metadata": {},
   "source": [
    "### Model evaluation"
   ]
  },
  {
   "cell_type": "code",
   "execution_count": 14,
   "metadata": {},
   "outputs": [
    {
     "name": "stdout",
     "output_type": "stream",
     "text": [
      "[[85 15 18]\n",
      " [26 52 48]\n",
      " [16 27 70]]\n",
      "               precision    recall  f1-score   support\n",
      "\n",
      "informational       0.67      0.72      0.69       118\n",
      " navigational       0.55      0.41      0.47       126\n",
      "transactional       0.51      0.62      0.56       113\n",
      "\n",
      "     accuracy                           0.58       357\n",
      "    macro avg       0.58      0.58      0.58       357\n",
      " weighted avg       0.58      0.58      0.57       357\n",
      "\n"
     ]
    }
   ],
   "source": [
    "from sklearn.metrics import classification_report\n",
    "from sklearn.metrics import confusion_matrix\n",
    "pred = rfc.predict(X_test)\n",
    "print(confusion_matrix(y_test, pred))\n",
    "print(classification_report(y_test, pred))"
   ]
  },
  {
   "cell_type": "markdown",
   "metadata": {},
   "source": [
    "### Feature Importance and Visualization"
   ]
  },
  {
   "cell_type": "code",
   "execution_count": 15,
   "metadata": {},
   "outputs": [
    {
     "name": "stdout",
     "output_type": "stream",
     "text": [
      "1. feature 10 (0.372929)\n",
      "2. feature 0 (0.170494)\n",
      "3. feature 7 (0.127702)\n",
      "4. feature 4 (0.125494)\n",
      "5. feature 6 (0.113167)\n",
      "6. feature 2 (0.044304)\n",
      "7. feature 1 (0.022853)\n",
      "8. feature 5 (0.011359)\n",
      "9. feature 9 (0.007392)\n",
      "10. feature 3 (0.004306)\n",
      "11. feature 8 (0.000000)\n"
     ]
    },
    {
     "data": {
      "text/plain": [
       "<BarContainer object of 11 artists>"
      ]
     },
     "execution_count": 15,
     "metadata": {},
     "output_type": "execute_result"
    },
    {
     "data": {
      "image/png": "[encoded data removed]",
      "text/plain": [
       "<Figure size 432x288 with 1 Axes>"
      ]
     },
     "metadata": {
      "needs_background": "light"
     },
     "output_type": "display_data"
    }
   ],
   "source": [
    "from matplotlib import pyplot as plt\n",
    "\n",
    "importances = rfc.feature_importances_\n",
    "std = np.std([tree.feature_importances_ for tree in rfc.estimators_],\n",
    "             axis=0)\n",
    "indices = np.argsort(importances)[::-1]\n",
    "\n",
    "for f in range(X_train.shape[1]):\n",
    "    print(\"%d. feature %d (%f)\" % (f + 1, indices[f], importances[indices[f]]))\n",
    "\n",
    "# Plot the feature importances of the rfc\n",
    "plt.bar(range(X_train.shape[1]), importances[indices],\n",
    "       color=\"r\", yerr=std[indices], align=\"center\")"
   ]
  },
  {
   "cell_type": "code",
   "execution_count": 16,
   "metadata": {},
   "outputs": [],
   "source": [
    "feats = {} # a dict to hold feature_name: feature_importance\n",
    "for feature, importance in zip(X_train.columns, rfc.feature_importances_):\n",
    "    feats[feature] = importance #add the name/value pair \n",
    "\n",
    "importances = pd.DataFrame.from_dict(feats, orient='index').rename(columns={0: 'Gini-importance'})\n",
    "importances = importances.sort_values(by='Gini-importance', ascending=False)"
   ]
  },
  {
   "cell_type": "code",
   "execution_count": 17,
   "metadata": {},
   "outputs": [
    {
     "data": {
      "image/png": "[encoded data removed]",
      "text/plain": [
       "<Figure size 720x432 with 1 Axes>"
      ]
     },
     "metadata": {
      "needs_background": "light"
     },
     "output_type": "display_data"
    }
   ],
   "source": [
    "fig, ax = plt.subplots(figsize=(10, 6))\n",
    "\n",
    "fig = sns.barplot(y=importances.index, x='Gini-importance', data=importances, ax=ax, xerr=std[indices])\n",
    "ax.set_xlabel('Variables', fontsize=14)\n",
    "ax.set_ylabel('Gini-importance', fontsize=14)\n",
    "ax.set_title('Variables Importance Plot', fontsize=16)\n",
    "plt.tight_layout()\n",
    "plt.show()"
   ]
  },
  {
   "cell_type": "code",
   "execution_count": 18,
   "metadata": {},
   "outputs": [],
   "source": [
    "# df_new.to_csv('mkt funnel keywords for model.csv', index=False)"
   ]
  }
 ],
 "metadata": {
  "kernelspec": {
   "display_name": "Python 3",
   "language": "python",
   "name": "python3"
  },
  "language_info": {
   "codemirror_mode": {
    "name": "ipython",
    "version": 3
   },
   "file_extension": ".py",
   "mimetype": "text/x-python",
   "name": "python",
   "nbconvert_exporter": "python",
   "pygments_lexer": "ipython3",
   "version": "3.7.3"
  }
 },
 "nbformat": 4,
 "nbformat_minor": 2
}
