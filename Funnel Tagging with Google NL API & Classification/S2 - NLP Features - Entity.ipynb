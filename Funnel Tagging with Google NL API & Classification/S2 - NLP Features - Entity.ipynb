{
 "cells": [
  {
   "cell_type": "code",
   "execution_count": 1,
   "metadata": {},
   "outputs": [
    {
     "data": {
      "text/html": [
       "<div>\n",
       "<style scoped>\n",
       "    .dataframe tbody tr th:only-of-type {\n",
       "        vertical-align: middle;\n",
       "    }\n",
       "\n",
       "    .dataframe tbody tr th {\n",
       "        vertical-align: top;\n",
       "    }\n",
       "\n",
       "    .dataframe thead th {\n",
       "        text-align: right;\n",
       "    }\n",
       "</style>\n",
       "<table border=\"1\" class=\"dataframe\">\n",
       "  <thead>\n",
       "    <tr style=\"text-align: right;\">\n",
       "      <th></th>\n",
       "      <th>query</th>\n",
       "      <th>title</th>\n",
       "      <th>name</th>\n",
       "      <th>entity_type</th>\n",
       "      <th>salience</th>\n",
       "      <th>entity_sentiment_score</th>\n",
       "      <th>entity_sentiment_magnitude</th>\n",
       "    </tr>\n",
       "  </thead>\n",
       "  <tbody>\n",
       "    <tr>\n",
       "      <th>20457</th>\n",
       "      <td>what is employee retention</td>\n",
       "      <td>What is employee retention? definition and mea...</td>\n",
       "      <td>[employee retention, definition, meaning]</td>\n",
       "      <td>[OTHER, OTHER, OTHER]</td>\n",
       "      <td>[0.5862148404121399, 0.23478971421718597, 0.17...</td>\n",
       "      <td>[0.0, 0.0, 0.0]</td>\n",
       "      <td>[0.0, 0.0, 0.0]</td>\n",
       "    </tr>\n",
       "    <tr>\n",
       "      <th>16676</th>\n",
       "      <td>sensodyne complete protection review</td>\n",
       "      <td>Sensodyne Sensitivity Toothpaste for Sensitive...</td>\n",
       "      <td>[Sensodyne, Sensitivity Toothpaste, Teeth]</td>\n",
       "      <td>[OTHER, OTHER, OTHER]</td>\n",
       "      <td>[0.6203917860984802, 0.284095823764801, 0.0955...</td>\n",
       "      <td>[0.0, 0.0, 0.0]</td>\n",
       "      <td>[0.0, 0.0, 0.0]</td>\n",
       "    </tr>\n",
       "    <tr>\n",
       "      <th>2091</th>\n",
       "      <td>auto owners insurance agent appointment</td>\n",
       "      <td>Auto-Owners Insurance: Home</td>\n",
       "      <td>[Home, Auto-Owners Insurance]</td>\n",
       "      <td>[OTHER, ORGANIZATION]</td>\n",
       "      <td>[0.5346556305885315, 0.4653443396091461]</td>\n",
       "      <td>[0.0, 0.0]</td>\n",
       "      <td>[0.0, 0.0]</td>\n",
       "    </tr>\n",
       "  </tbody>\n",
       "</table>\n",
       "</div>"
      ],
      "text/plain": [
       "                                         query  \\\n",
       "20457               what is employee retention   \n",
       "16676     sensodyne complete protection review   \n",
       "2091   auto owners insurance agent appointment   \n",
       "\n",
       "                                                   title  \\\n",
       "20457  What is employee retention? definition and mea...   \n",
       "16676  Sensodyne Sensitivity Toothpaste for Sensitive...   \n",
       "2091                         Auto-Owners Insurance: Home   \n",
       "\n",
       "                                             name            entity_type  \\\n",
       "20457   [employee retention, definition, meaning]  [OTHER, OTHER, OTHER]   \n",
       "16676  [Sensodyne, Sensitivity Toothpaste, Teeth]  [OTHER, OTHER, OTHER]   \n",
       "2091                [Home, Auto-Owners Insurance]  [OTHER, ORGANIZATION]   \n",
       "\n",
       "                                                salience  \\\n",
       "20457  [0.5862148404121399, 0.23478971421718597, 0.17...   \n",
       "16676  [0.6203917860984802, 0.284095823764801, 0.0955...   \n",
       "2091            [0.5346556305885315, 0.4653443396091461]   \n",
       "\n",
       "      entity_sentiment_score entity_sentiment_magnitude  \n",
       "20457        [0.0, 0.0, 0.0]            [0.0, 0.0, 0.0]  \n",
       "16676        [0.0, 0.0, 0.0]            [0.0, 0.0, 0.0]  \n",
       "2091              [0.0, 0.0]                 [0.0, 0.0]  "
      ]
     },
     "execution_count": 1,
     "metadata": {},
     "output_type": "execute_result"
    }
   ],
   "source": [
    "import pandas as pd\n",
    "import numpy as np\n",
    "\n",
    "df = pd.read_csv('sample keywords with entities.csv')\n",
    "\n",
    "# read 'list string' as list for the following columns\n",
    "import ast\n",
    "\n",
    "columns = ['name', 'entity_type', 'salience', 'entity_sentiment_score', 'entity_sentiment_magnitude']\n",
    "\n",
    "for column in columns:\n",
    "    df[column] = df[column].apply(lambda x: ast.literal_eval(x) if type(x)==str else '')\n",
    "\n",
    "df.sample(3)"
   ]
  },
  {
   "cell_type": "code",
   "execution_count": 2,
   "metadata": {},
   "outputs": [],
   "source": [
    "# drop <people also ask> and <video pack> records\n",
    "df = df.loc[~df['title'].isin(['People Also Ask', 'Video Pack'])]\n",
    "\n",
    "# drop title = nan\n",
    "df['type'] = df['title'].apply(lambda x: type(x)==str)\n",
    "df = df[df['type'] == True]\n",
    "df = df.drop(['type'], axis=1).reset_index(drop=True)"
   ]
  },
  {
   "cell_type": "markdown",
   "metadata": {},
   "source": [
    "## Aggregate the variables at query level by migrating into a new dataframe"
   ]
  },
  {
   "cell_type": "code",
   "execution_count": 3,
   "metadata": {},
   "outputs": [],
   "source": [
    "df_new = pd.DataFrame(df['query'].drop_duplicates()).reset_index(drop=True)\n",
    "\n",
    "import itertools\n",
    "\n",
    "items = ['name', 'entity_type', 'salience']\n",
    "    \n",
    "for item in items:\n",
    "    \n",
    "    # create new column\n",
    "    df_new[item] = None\n",
    "    \n",
    "    # combine the lists for each query\n",
    "    for i in range(df_new.shape[0]):\n",
    "        \n",
    "        query = df_new['query'][i]\n",
    "        query_pos = df.loc[df['query'] == query, item]\n",
    "    \n",
    "        query_pos = sum(list(itertools.chain(query_pos)), [])\n",
    "        df_new.loc[i, item] = query_pos"
   ]
  },
  {
   "cell_type": "markdown",
   "metadata": {},
   "source": [
    "### Make a dictionary storing entities and their types for reference"
   ]
  },
  {
   "cell_type": "code",
   "execution_count": 4,
   "metadata": {},
   "outputs": [
    {
     "data": {
      "text/html": [
       "<div>\n",
       "<style scoped>\n",
       "    .dataframe tbody tr th:only-of-type {\n",
       "        vertical-align: middle;\n",
       "    }\n",
       "\n",
       "    .dataframe tbody tr th {\n",
       "        vertical-align: top;\n",
       "    }\n",
       "\n",
       "    .dataframe thead th {\n",
       "        text-align: right;\n",
       "    }\n",
       "</style>\n",
       "<table border=\"1\" class=\"dataframe\">\n",
       "  <thead>\n",
       "    <tr style=\"text-align: right;\">\n",
       "      <th></th>\n",
       "      <th>name</th>\n",
       "      <th>entity_type</th>\n",
       "    </tr>\n",
       "  </thead>\n",
       "  <tbody>\n",
       "    <tr>\n",
       "      <th>1927</th>\n",
       "      <td>Biotène</td>\n",
       "      <td>OTHER</td>\n",
       "    </tr>\n",
       "    <tr>\n",
       "      <th>2190</th>\n",
       "      <td>A Quote For Car Insurance | Right Now</td>\n",
       "      <td>OTHER</td>\n",
       "    </tr>\n",
       "    <tr>\n",
       "      <th>4303</th>\n",
       "      <td>Workplace Demands</td>\n",
       "      <td>OTHER</td>\n",
       "    </tr>\n",
       "  </tbody>\n",
       "</table>\n",
       "</div>"
      ],
      "text/plain": [
       "                                       name entity_type\n",
       "1927                                Biotène       OTHER\n",
       "2190  A Quote For Car Insurance | Right Now       OTHER\n",
       "4303                      Workplace Demands       OTHER"
      ]
     },
     "execution_count": 4,
     "metadata": {},
     "output_type": "execute_result"
    }
   ],
   "source": [
    "title_entity_dictionary = pd.DataFrame()\n",
    "\n",
    "items = ['name', 'entity_type']\n",
    "\n",
    "for item in items:\n",
    "    title_entity_dictionary[item] = sum(list(itertools.chain(df_new[item])), [])\n",
    "\n",
    "title_entity_dictionary = title_entity_dictionary.drop_duplicates().reset_index(drop=True)\n",
    "# title_entity_dictionary.to_csv('title entity dictionary.csv', index=False)\n",
    "title_entity_dictionary.sample(3)"
   ]
  },
  {
   "cell_type": "code",
   "execution_count": 5,
   "metadata": {
    "scrolled": true
   },
   "outputs": [
    {
     "data": {
      "text/plain": [
       "OTHER            4281\n",
       "ORGANIZATION     1024\n",
       "PERSON            543\n",
       "CONSUMER_GOOD     456\n",
       "WORK_OF_ART       438\n",
       "LOCATION          352\n",
       "NUMBER            300\n",
       "EVENT              97\n",
       "PRICE              68\n",
       "DATE               33\n",
       "ADDRESS            12\n",
       "PHONE_NUMBER        5\n",
       "Name: entity_type, dtype: int64"
      ]
     },
     "execution_count": 5,
     "metadata": {},
     "output_type": "execute_result"
    }
   ],
   "source": [
    "title_entity_dictionary['entity_type'].value_counts()"
   ]
  },
  {
   "cell_type": "markdown",
   "metadata": {},
   "source": [
    "## Create Entity Type Features"
   ]
  },
  {
   "cell_type": "code",
   "execution_count": 6,
   "metadata": {},
   "outputs": [],
   "source": [
    "df_new['price_phone'] = df_new['entity_type'].apply(lambda x: round(100*(x.count('PRICE')+x.count('PHONE_NUMBER'))/len(x), 2))\n",
    "\n",
    "df_new['organization'] = df_new['entity_type'].apply(lambda x: round(100*x.count('ORGANIZATION')/len(x), 2))\n",
    "\n",
    "df_new['work of art'] = df_new['entity_type'].apply(lambda x: round(100*x.count('WORK_OF_ART')/len(x), 2))"
   ]
  },
  {
   "cell_type": "code",
   "execution_count": 7,
   "metadata": {},
   "outputs": [],
   "source": [
    "df_new['salience std'] = df_new['salience'].apply(lambda x: round(np.std(np.array(x), axis=0), 2))"
   ]
  },
  {
   "cell_type": "code",
   "execution_count": 8,
   "metadata": {},
   "outputs": [
    {
     "data": {
      "text/html": [
       "<div>\n",
       "<style scoped>\n",
       "    .dataframe tbody tr th:only-of-type {\n",
       "        vertical-align: middle;\n",
       "    }\n",
       "\n",
       "    .dataframe tbody tr th {\n",
       "        vertical-align: top;\n",
       "    }\n",
       "\n",
       "    .dataframe thead th {\n",
       "        text-align: right;\n",
       "    }\n",
       "</style>\n",
       "<table border=\"1\" class=\"dataframe\">\n",
       "  <thead>\n",
       "    <tr style=\"text-align: right;\">\n",
       "      <th></th>\n",
       "      <th>query</th>\n",
       "      <th>name</th>\n",
       "      <th>entity_type</th>\n",
       "      <th>salience</th>\n",
       "      <th>price_phone</th>\n",
       "      <th>organization</th>\n",
       "      <th>work of art</th>\n",
       "      <th>salience std</th>\n",
       "    </tr>\n",
       "  </thead>\n",
       "  <tbody>\n",
       "    <tr>\n",
       "      <th>593</th>\n",
       "      <td>crest 3d white strips coupon printable</td>\n",
       "      <td>[Crest Toothpaste, Coupons, Mouthwash, Whitest...</td>\n",
       "      <td>[OTHER, OTHER, CONSUMER_GOOD, LOCATION, OTHER,...</td>\n",
       "      <td>[0.5708202123641968, 0.2016894668340683, 0.172...</td>\n",
       "      <td>2.63</td>\n",
       "      <td>5.26</td>\n",
       "      <td>0.0</td>\n",
       "      <td>0.26</td>\n",
       "    </tr>\n",
       "    <tr>\n",
       "      <th>1700</th>\n",
       "      <td>what is the cause for dry mouth</td>\n",
       "      <td>[Dry mouth, Symptoms, causes, Mayo Clinic, Dry...</td>\n",
       "      <td>[OTHER, OTHER, OTHER, ORGANIZATION, OTHER, OTH...</td>\n",
       "      <td>[0.5734050273895264, 0.18981856107711792, 0.17...</td>\n",
       "      <td>0.00</td>\n",
       "      <td>14.71</td>\n",
       "      <td>0.0</td>\n",
       "      <td>0.20</td>\n",
       "    </tr>\n",
       "    <tr>\n",
       "      <th>203</th>\n",
       "      <td>best auto home insurance bundle</td>\n",
       "      <td>[ValuePenguin, Best Home, ValuePenguin, Best H...</td>\n",
       "      <td>[OTHER, OTHER, OTHER, OTHER, ORGANIZATION, OTH...</td>\n",
       "      <td>[0.695317268371582, 0.30468273162841797, 0.695...</td>\n",
       "      <td>0.00</td>\n",
       "      <td>15.15</td>\n",
       "      <td>0.0</td>\n",
       "      <td>0.31</td>\n",
       "    </tr>\n",
       "  </tbody>\n",
       "</table>\n",
       "</div>"
      ],
      "text/plain": [
       "                                       query  \\\n",
       "593   crest 3d white strips coupon printable   \n",
       "1700         what is the cause for dry mouth   \n",
       "203          best auto home insurance bundle   \n",
       "\n",
       "                                                   name  \\\n",
       "593   [Crest Toothpaste, Coupons, Mouthwash, Whitest...   \n",
       "1700  [Dry mouth, Symptoms, causes, Mayo Clinic, Dry...   \n",
       "203   [ValuePenguin, Best Home, ValuePenguin, Best H...   \n",
       "\n",
       "                                            entity_type  \\\n",
       "593   [OTHER, OTHER, CONSUMER_GOOD, LOCATION, OTHER,...   \n",
       "1700  [OTHER, OTHER, OTHER, ORGANIZATION, OTHER, OTH...   \n",
       "203   [OTHER, OTHER, OTHER, OTHER, ORGANIZATION, OTH...   \n",
       "\n",
       "                                               salience  price_phone  \\\n",
       "593   [0.5708202123641968, 0.2016894668340683, 0.172...         2.63   \n",
       "1700  [0.5734050273895264, 0.18981856107711792, 0.17...         0.00   \n",
       "203   [0.695317268371582, 0.30468273162841797, 0.695...         0.00   \n",
       "\n",
       "      organization  work of art  salience std  \n",
       "593           5.26          0.0          0.26  \n",
       "1700         14.71          0.0          0.20  \n",
       "203          15.15          0.0          0.31  "
      ]
     },
     "execution_count": 8,
     "metadata": {},
     "output_type": "execute_result"
    }
   ],
   "source": [
    "df_new.sample(3)"
   ]
  },
  {
   "cell_type": "code",
   "execution_count": 9,
   "metadata": {},
   "outputs": [],
   "source": [
    "df_new = df_new.drop(['name', 'entity_type', 'salience'], axis=1)"
   ]
  },
  {
   "cell_type": "code",
   "execution_count": 10,
   "metadata": {},
   "outputs": [],
   "source": [
    "df_new.to_csv('entity for model.csv', index=False)"
   ]
  }
 ],
 "metadata": {
  "kernelspec": {
   "display_name": "Python 3",
   "language": "python",
   "name": "python3"
  },
  "language_info": {
   "codemirror_mode": {
    "name": "ipython",
    "version": 3
   },
   "file_extension": ".py",
   "mimetype": "text/x-python",
   "name": "python",
   "nbconvert_exporter": "python",
   "pygments_lexer": "ipython3",
   "version": "3.7.3"
  }
 },
 "nbformat": 4,
 "nbformat_minor": 2
}
