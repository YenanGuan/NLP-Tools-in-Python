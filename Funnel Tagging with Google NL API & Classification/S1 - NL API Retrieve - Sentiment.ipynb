{
 "cells": [
  {
   "cell_type": "code",
   "execution_count": null,
   "metadata": {},
   "outputs": [],
   "source": [
    "import pandas as pd\n",
    "import numpy as np\n",
    "\n",
    "import warnings\n",
    "warnings.simplefilter('ignore')"
   ]
  },
  {
   "cell_type": "code",
   "execution_count": null,
   "metadata": {},
   "outputs": [],
   "source": [
    "df = pd.read_csv('KWSerpAnalysis 05 - Authority Labs Scrape 2019-09-12.csv')\n",
    "kw = pd.read_csv('mkt funnel keywords for model.csv')\n",
    "print(list(kw))\n",
    "\n",
    "df = df[df['query'].isin(kw['query'])].reset_index(drop=True)\n",
    "\n",
    "df = df[['query', 'desc']]\n",
    "\n",
    "df.sample(3)"
   ]
  },
  {
   "cell_type": "markdown",
   "metadata": {},
   "source": [
    "## Create API Connection for Sentiment Retrieval\n",
    "- https://cloud.google.com/natural-language/docs/basics#sentiment_analysis\n",
    "- https://cloud.google.com/natural-language/docs/analyzing-sentiment\n",
    "- https://cloud.google.com/natural-language/docs/reference/rest/v1/Sentiment"
   ]
  },
  {
   "cell_type": "code",
   "execution_count": null,
   "metadata": {},
   "outputs": [],
   "source": [
    "from google.cloud import language_v1\n",
    "from google.cloud.language_v1 import enums\n",
    "from google.oauth2 import service_account\n",
    "\n",
    "\n",
    "credentials = service_account.Credentials.from_service_account_file(\n",
    "    'credential path.json')\n",
    "\n",
    "client = language_v1.LanguageServiceClient(credentials=credentials)\n",
    "\n",
    "def analyze_sentiment(text_content):\n",
    "    \n",
    "    document = {\"content\": text_content,\n",
    "                \"type\": enums.Document.Type.PLAIN_TEXT,\n",
    "                \"language\": \"en\"}\n",
    "    \n",
    "    response = client.analyze_sentiment(document=document,\n",
    "                                        encoding_type=enums.EncodingType.UTF8)\n",
    "\n",
    "    sentiment = response.document_sentiment\n",
    "\n",
    "    return sentiment.score, sentiment.magnitude"
   ]
  },
  {
   "cell_type": "code",
   "execution_count": null,
   "metadata": {},
   "outputs": [],
   "source": [
    "df['score'] = None\n",
    "df['magnitude'] = None"
   ]
  },
  {
   "cell_type": "markdown",
   "metadata": {},
   "source": [
    "## Execute API and Store Results"
   ]
  },
  {
   "cell_type": "code",
   "execution_count": null,
   "metadata": {},
   "outputs": [],
   "source": [
    "for i in range(len(df)):\n",
    "    print('Item ', i)\n",
    "    text = df.iloc[i]['desc']\n",
    "    if type(text) == str:\n",
    "        sentiment_score, sentiment_magnitude = analyze_sentiment(text)\n",
    "        df.loc[i, 'score'] = sentiment_score\n",
    "        print('Sentiment score: ', df.loc[i]['score'])\n",
    "        df.loc[i, 'magnitude'] = sentiment_magnitude\n",
    "    else:\n",
    "        df.loc[i, 'score'] = 0\n",
    "        df.loc[i, 'magnitude'] = 0"
   ]
  },
  {
   "cell_type": "code",
   "execution_count": null,
   "metadata": {},
   "outputs": [],
   "source": [
    "df.sample(3)"
   ]
  },
  {
   "cell_type": "code",
   "execution_count": null,
   "metadata": {},
   "outputs": [],
   "source": [
    "df.to_csv('example words with sentiments.csv', index=False)"
   ]
  }
 ],
 "metadata": {
  "kernelspec": {
   "display_name": "Python 3",
   "language": "python",
   "name": "python3"
  },
  "language_info": {
   "codemirror_mode": {
    "name": "ipython",
    "version": 3
   },
   "file_extension": ".py",
   "mimetype": "text/x-python",
   "name": "python",
   "nbconvert_exporter": "python",
   "pygments_lexer": "ipython3",
   "version": "3.7.3"
  }
 },
 "nbformat": 4,
 "nbformat_minor": 2
}
